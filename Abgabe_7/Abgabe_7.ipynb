{
 "cells": [
  {
   "cell_type": "markdown",
   "id": "77bb3322",
   "metadata": {},
   "source": [
    "# Abgabe 7"
   ]
  },
  {
   "cell_type": "code",
   "execution_count": 39,
   "id": "5bff5724",
   "metadata": {},
   "outputs": [],
   "source": [
    "from matplotlib import pyplot as plt\n",
    "import numpy as np\n",
    "import collections\n",
    "\n",
    "import torch\n",
    "import torch.nn as nn\n",
    "import torch.nn.functional as F\n",
    "import torch.optim as optim\n",
    "\n",
    "torch.set_printoptions(edgeitems=2)\n",
    "torch.manual_seed(123)\n",
    "\n",
    "class_names = ['airplane','automobile','bird','cat','deer',\n",
    "               'dog','frog','horse','ship','truck']"
   ]
  },
  {
   "cell_type": "code",
   "execution_count": 40,
   "id": "566add7d",
   "metadata": {},
   "outputs": [
    {
     "name": "stdout",
     "output_type": "stream",
     "text": [
      "Files already downloaded and verified\n"
     ]
    }
   ],
   "source": [
    "from torchvision import datasets, transforms\n",
    "data_path = '../data-unversioned/p1ch6/'\n",
    "cifar10 = datasets.CIFAR10(\n",
    "    data_path, train=True, download=True,\n",
    "    transform=transforms.Compose([\n",
    "        transforms.ToTensor(),\n",
    "        transforms.Normalize((0.4915, 0.4823, 0.4468),\n",
    "                             (0.2470, 0.2435, 0.2616))\n",
    "    ]))"
   ]
  },
  {
   "cell_type": "code",
   "execution_count": 41,
   "id": "e181b5cd",
   "metadata": {},
   "outputs": [
    {
     "name": "stdout",
     "output_type": "stream",
     "text": [
      "Files already downloaded and verified\n"
     ]
    }
   ],
   "source": [
    "cifar10_val = datasets.CIFAR10(\n",
    "    data_path, train=False, download=True,\n",
    "    transform=transforms.Compose([\n",
    "        transforms.ToTensor(),\n",
    "        transforms.Normalize((0.4915, 0.4823, 0.4468),\n",
    "                             (0.2470, 0.2435, 0.2616))\n",
    "    ]))"
   ]
  },
  {
   "cell_type": "code",
   "execution_count": 42,
   "id": "27fa3e5a",
   "metadata": {},
   "outputs": [],
   "source": [
    "label_map = {0: 0, 2: 1}\n",
    "class_names = ['airplane', 'bird']\n",
    "cifar2 = [(img, label_map[label])\n",
    "          for img, label in cifar10\n",
    "          if label in [0, 2]]\n",
    "cifar2_val = [(img, label_map[label])\n",
    "              for img, label in cifar10_val\n",
    "              if label in [0, 2]]"
   ]
  },
  {
   "cell_type": "code",
   "execution_count": 43,
   "id": "5d512696",
   "metadata": {},
   "outputs": [
    {
     "name": "stdout",
     "output_type": "stream",
     "text": [
      "Training on device cpu.\n"
     ]
    }
   ],
   "source": [
    "device = (torch.device('cuda') if torch.cuda.is_available()\n",
    "          else torch.device('cpu'))\n",
    "print(f\"Training on device {device}.\")"
   ]
  },
  {
   "cell_type": "code",
   "execution_count": 44,
   "id": "04b42aff",
   "metadata": {},
   "outputs": [],
   "source": [
    "import datetime\n",
    "\n",
    "def training_loop(n_epochs, optimizer, model, loss_fn, train_loader, val_loader):\n",
    "    loss_Nvall = np.zeros(n_epochs)\n",
    "    loss_Ntrain = np.zeros(n_epochs)\n",
    "    for epoch in range(1, n_epochs + 1):\n",
    "        loss_train = 0.0\n",
    "        for imgs, labels in train_loader:\n",
    "            imgs = imgs.to(device=device)  # <1>\n",
    "            labels = labels.to(device=device)\n",
    "            outputs = model(imgs)\n",
    "            loss = loss_fn(outputs, labels)\n",
    "\n",
    "            optimizer.zero_grad()\n",
    "            loss.backward()\n",
    "            optimizer.step()\n",
    "\n",
    "            loss_train += loss.item()\n",
    "        \n",
    "        loss_Ntrain[epoch-1] = loss_train / len(train_loader)\n",
    "\n",
    "        loss_val = 0.0\n",
    "        for imgs, labels in val_loader:\n",
    "            imgs = imgs.to(device=device)  # <1>\n",
    "            labels = labels.to(device=device)\n",
    "            outputs = model(imgs)\n",
    "            loss = loss_fn(outputs, labels)\n",
    "\n",
    "            loss_val += loss.item()\n",
    "\n",
    "        loss_Nvall[epoch-1] = loss_val / len(val_loader)\n",
    "\n",
    "        if epoch == 1 or epoch % 10 == 0:\n",
    "            print('{} Epoch {}, Training loss {}'.format(\n",
    "                datetime.datetime.now(), epoch,\n",
    "                loss_train / len(train_loader)))\n",
    "            print('{} Epoch {}, Validation loss {}'.format(\n",
    "                datetime.datetime.now(), epoch,\n",
    "                loss_val / len(val_loader)))\n",
    "            \n",
    "    return loss_Nvall, loss_Ntrain"
   ]
  },
  {
   "cell_type": "code",
   "execution_count": 45,
   "id": "64c34397",
   "metadata": {},
   "outputs": [],
   "source": [
    "train_loader = torch.utils.data.DataLoader(cifar2, batch_size=64,\n",
    "                                           shuffle=False)\n",
    "val_loader = torch.utils.data.DataLoader(cifar2_val, batch_size=64,\n",
    "                                         shuffle=False)\n",
    "all_acc_dict = collections.OrderedDict()\n",
    "\n",
    "def validate3(model, train_loader, val_loader):\n",
    "    accdict = {}\n",
    "    for name, loader in [(\"train\", train_loader), (\"val\", val_loader)]:\n",
    "        correct = 0\n",
    "        total = 0\n",
    "\n",
    "        with torch.no_grad():\n",
    "            for imgs, labels in loader:\n",
    "                imgs = imgs.to(device=device)\n",
    "                labels = labels.to(device=device)\n",
    "                outputs = model(imgs)\n",
    "                _, predicted = torch.max(outputs, dim=1) # <1>\n",
    "                total += labels.shape[0]\n",
    "                correct += int((predicted == labels).sum())\n",
    "\n",
    "        print(\"Accuracy {}: {:.2f}\".format(name , correct / total))\n",
    "        accdict[name] = correct / total\n",
    "    return accdict  "
   ]
  },
  {
   "cell_type": "code",
   "execution_count": 46,
   "id": "c38cfec5",
   "metadata": {},
   "outputs": [
    {
     "name": "stdout",
     "output_type": "stream",
     "text": [
      "2023-06-06 22:25:13.860584 Epoch 1, Training loss 0.5682078759381726\n",
      "2023-06-06 22:25:13.860584 Epoch 1, Validation loss 0.4802547777071595\n",
      "2023-06-06 22:25:54.648197 Epoch 10, Training loss 0.3380945338185426\n",
      "2023-06-06 22:25:54.648197 Epoch 10, Validation loss 0.33506403444334865\n",
      "2023-06-06 22:26:39.587043 Epoch 20, Training loss 0.2997575424089553\n",
      "2023-06-06 22:26:39.587043 Epoch 20, Validation loss 0.30518719740211964\n",
      "2023-06-06 22:27:23.873981 Epoch 30, Training loss 0.2733533550409754\n",
      "2023-06-06 22:27:23.873981 Epoch 30, Validation loss 0.29101878497749567\n",
      "2023-06-06 22:28:09.134668 Epoch 40, Training loss 0.2497795447232617\n",
      "2023-06-06 22:28:09.134668 Epoch 40, Validation loss 0.27975753182545304\n",
      "2023-06-06 22:28:54.118350 Epoch 50, Training loss 0.22939877468309586\n",
      "2023-06-06 22:28:54.118350 Epoch 50, Validation loss 0.2713701822794974\n",
      "2023-06-06 22:29:39.937351 Epoch 60, Training loss 0.2109880637685964\n",
      "2023-06-06 22:29:39.937351 Epoch 60, Validation loss 0.26876768097281456\n",
      "2023-06-06 22:30:25.759898 Epoch 70, Training loss 0.19448366168008488\n",
      "2023-06-06 22:30:25.759898 Epoch 70, Validation loss 0.2692692643031478\n",
      "2023-06-06 22:31:11.662296 Epoch 80, Training loss 0.1790493560634601\n",
      "2023-06-06 22:31:11.662296 Epoch 80, Validation loss 0.26979799987748265\n",
      "2023-06-06 22:31:57.428061 Epoch 90, Training loss 0.16430320771067006\n",
      "2023-06-06 22:31:57.428061 Epoch 90, Validation loss 0.27083684178069234\n",
      "2023-06-06 22:32:43.574451 Epoch 100, Training loss 0.14986088622812252\n",
      "2023-06-06 22:32:43.574451 Epoch 100, Validation loss 0.2729137181304395\n",
      "Accuracy train: 0.94\n",
      "Accuracy val: 0.89\n",
      "Parameteranzahl bei einem 3x3-Kernel:  18090 [432, 16, 1152, 8, 16384, 32, 64, 2]\n"
     ]
    }
   ],
   "source": [
    "# 3x3\n",
    "import torch.nn.functional as F\n",
    "# Kernel-Size 3:\n",
    "class Net(nn.Module):\n",
    "    def __init__(self):\n",
    "        super().__init__()\n",
    "        self.conv1 = nn.Conv2d(3, 16, kernel_size=3, padding=1)\n",
    "        self.conv2 = nn.Conv2d(16, 8, kernel_size=3, padding=1)\n",
    "        self.fc1 = nn.Linear(8 * 8 * 8, 32)\n",
    "        self.fc2 = nn.Linear(32, 2)\n",
    "        \n",
    "    def forward(self, x):\n",
    "        out = F.max_pool2d(torch.tanh(self.conv1(x)), 2)\n",
    "        out = F.max_pool2d(torch.tanh(self.conv2(out)), 2)\n",
    "        out = out.view(-1, 8 * 8 * 8)\n",
    "        out = torch.tanh(self.fc1(out))\n",
    "        out = self.fc2(out)\n",
    "        return out\n",
    "    \n",
    "model = Net()\n",
    "torch.save(model.state_dict(), data_path + 'birds_vs_airplanes.pt')\n",
    "\n",
    "loaded_model = Net().to(device=device)\n",
    "loaded_model.load_state_dict(torch.load(data_path\n",
    "                                        + 'birds_vs_airplanes.pt',\n",
    "                                        map_location=device))\n",
    "\n",
    "model = Net().to(device=device)  # <1>\n",
    "optimizer = optim.SGD(model.parameters(), lr=1e-2)\n",
    "loss_fn = nn.CrossEntropyLoss()\n",
    "\n",
    "train_loader = torch.utils.data.DataLoader(cifar2, batch_size=64,\n",
    "                                           shuffle=False)\n",
    "\n",
    "val_loader = torch.utils.data.DataLoader(cifar2_val, batch_size=64,\n",
    "                                         shuffle=False)\n",
    "\n",
    "loss_v, loss_t = training_loop(\n",
    "    n_epochs = 100,\n",
    "    optimizer = optimizer,\n",
    "    model = model,\n",
    "    loss_fn = loss_fn,\n",
    "    train_loader = train_loader,\n",
    "    val_loader = val_loader,\n",
    ")\n",
    "\n",
    "train_loader = torch.utils.data.DataLoader(cifar2, batch_size=64,\n",
    "                                           shuffle=False)\n",
    "val_loader = torch.utils.data.DataLoader(cifar2_val, batch_size=64,\n",
    "                                         shuffle=False)\n",
    "all_acc_dict = collections.OrderedDict()\n",
    "\n",
    "all_acc_dict[\"baseline\"] = validate(model, train_loader, val_loader)\n",
    "\n",
    "# Anzahl der Parameter ausgeben\n",
    "numel_list = [p.numel() for p in model.parameters()]\n",
    "print('Parameteranzahl bei einem 3x3-Kernel: ', sum(numel_list), numel_list)"
   ]
  },
  {
   "cell_type": "code",
   "execution_count": 47,
   "id": "a4c9402f",
   "metadata": {},
   "outputs": [
    {
     "name": "stdout",
     "output_type": "stream",
     "text": [
      "2023-06-06 22:32:52.755272 Epoch 1, Training loss 0.5586938106330337\n",
      "2023-06-06 22:32:52.755272 Epoch 1, Validation loss 0.4814346367493272\n",
      "2023-06-06 22:33:40.951326 Epoch 10, Training loss 0.3227815571104645\n",
      "2023-06-06 22:33:40.951326 Epoch 10, Validation loss 0.3290232219733298\n",
      "2023-06-06 22:34:33.631655 Epoch 20, Training loss 0.28045091915662124\n",
      "2023-06-06 22:34:33.631655 Epoch 20, Validation loss 0.29937117686495185\n",
      "2023-06-06 22:35:27.473203 Epoch 30, Training loss 0.24968898875318515\n",
      "2023-06-06 22:35:27.473203 Epoch 30, Validation loss 0.3032195442356169\n",
      "2023-06-06 22:36:23.064940 Epoch 40, Training loss 0.22406397774151177\n",
      "2023-06-06 22:36:23.064940 Epoch 40, Validation loss 0.3090264485217631\n",
      "2023-06-06 22:37:22.372453 Epoch 50, Training loss 0.20017791805183813\n",
      "2023-06-06 22:37:22.372453 Epoch 50, Validation loss 0.31011158181354403\n",
      "2023-06-06 22:38:18.066457 Epoch 60, Training loss 0.17744014991127002\n",
      "2023-06-06 22:38:18.066457 Epoch 60, Validation loss 0.3082407498732209\n",
      "2023-06-06 22:39:15.996548 Epoch 70, Training loss 0.1560752059623694\n",
      "2023-06-06 22:39:15.996548 Epoch 70, Validation loss 0.3093023640103638\n",
      "2023-06-06 22:40:11.944943 Epoch 80, Training loss 0.13576345145702362\n",
      "2023-06-06 22:40:11.944943 Epoch 80, Validation loss 0.3192941304296255\n",
      "2023-06-06 22:41:11.148396 Epoch 90, Training loss 0.11593812236645419\n",
      "2023-06-06 22:41:11.148396 Epoch 90, Validation loss 0.324195031542331\n",
      "2023-06-06 22:42:10.974329 Epoch 100, Training loss 0.09706846547496926\n",
      "2023-06-06 22:42:10.974329 Epoch 100, Validation loss 0.3203935441561043\n",
      "Accuracy train: 0.95\n",
      "Accuracy val: 0.87\n",
      "Parameteranzahl bei einem 5x5-Kernel:  20906 [1200, 16, 3200, 8, 16384, 32, 64, 2]\n"
     ]
    }
   ],
   "source": [
    "#5x5\n",
    "# Kernel-Size 5:\n",
    "class Net5(nn.Module):\n",
    "    def __init__(self):\n",
    "        super().__init__()\n",
    "        self.conv1 = nn.Conv2d(3, 16, kernel_size=5, padding=2)\n",
    "        self.conv2 = nn.Conv2d(16, 8, kernel_size=5, padding=2)\n",
    "        self.fc1 = nn.Linear(8 * 8 * 8, 32)\n",
    "        self.fc2 = nn.Linear(32, 2)\n",
    "        \n",
    "    def forward(self, x):\n",
    "        out = F.max_pool2d(torch.tanh(self.conv1(x)), 2)\n",
    "        out = F.max_pool2d(torch.tanh(self.conv2(out)), 2)\n",
    "        out = out.view(-1, 8 * 8 * 8)\n",
    "        out = torch.tanh(self.fc1(out))\n",
    "        out = self.fc2(out)\n",
    "        return out\n",
    "    \n",
    "model5 = Net5()\n",
    "\n",
    "torch.save(model5.state_dict(), data_path + 'birds_vs_airplanes.pt')\n",
    "\n",
    "loaded_model = Net5().to(device=device)\n",
    "loaded_model.load_state_dict(torch.load(data_path\n",
    "                                        + 'birds_vs_airplanes.pt',\n",
    "                                        map_location=device))\n",
    "\n",
    "model5 = Net5().to(device=device)  # <2>\n",
    "optimizer = optim.SGD(model5.parameters(), lr=1e-2)\n",
    "loss_fn = nn.CrossEntropyLoss()\n",
    "\n",
    "\n",
    "\n",
    "train_loader = torch.utils.data.DataLoader(cifar2, batch_size=64,\n",
    "                                           shuffle=False)\n",
    "\n",
    "val_loader = torch.utils.data.DataLoader(cifar2_val, batch_size=64,\n",
    "                                         shuffle=False)\n",
    "\n",
    "loss_v_5, loss_t_5 = training_loop(\n",
    "    n_epochs = 100,\n",
    "    optimizer = optimizer,\n",
    "    model = model5,\n",
    "    loss_fn = loss_fn,\n",
    "    train_loader = train_loader,\n",
    "    val_loader = val_loader,\n",
    ")\n",
    "\n",
    "train_loader = torch.utils.data.DataLoader(cifar2, batch_size=64,\n",
    "                                           shuffle=False)\n",
    "val_loader = torch.utils.data.DataLoader(cifar2_val, batch_size=64,\n",
    "                                         shuffle=False)\n",
    "all_acc_dict = collections.OrderedDict()\n",
    "\n",
    "def validate(model5, train_loader, val_loader):\n",
    "    accdict = {}\n",
    "    for name, loader in [(\"train\", train_loader), (\"val\", val_loader)]:\n",
    "        correct = 0\n",
    "        total = 0\n",
    "\n",
    "        with torch.no_grad():\n",
    "            for imgs, labels in loader:\n",
    "                imgs = imgs.to(device=device)\n",
    "                labels = labels.to(device=device)\n",
    "                outputs = model5(imgs)\n",
    "                _, predicted = torch.max(outputs, dim=1) # <1>\n",
    "                total += labels.shape[0]\n",
    "                correct += int((predicted == labels).sum())\n",
    "\n",
    "        print(\"Accuracy {}: {:.2f}\".format(name , correct / total))\n",
    "        accdict[name] = correct / total\n",
    "    return accdict\n",
    "\n",
    "\n",
    "all_acc_dict[\"baseline\"] = validate(model5, train_loader, val_loader)\n",
    "\n",
    "\n",
    "# Anzahl der Parameter ausgeben\n",
    "numel_list5 = [p.numel() for p in model5.parameters()]\n",
    "print('Parameteranzahl bei einem 5x5-Kernel: ', sum(numel_list5), numel_list5)"
   ]
  },
  {
   "cell_type": "code",
   "execution_count": 48,
   "id": "136e39b9",
   "metadata": {},
   "outputs": [
    {
     "data": {
      "image/png": "[encoded data removed]",
      "text/plain": [
       "<Figure size 640x480 with 1 Axes>"
      ]
     },
     "metadata": {},
     "output_type": "display_data"
    }
   ],
   "source": [
    "epochs = np.arange(1, 101, 1)\n",
    "\n",
    "plt.plot(epochs,loss_v, label='validation loss 3x3')\n",
    "plt.plot(epochs,loss_t, label='training loss 3x3')\n",
    "plt.plot(epochs,loss_v_5, label='validation loss 5x5')\n",
    "plt.plot(epochs,loss_t_5, label='training loss 5x5')\n",
    "plt.xlabel('Epochs')\n",
    "plt.ylabel('Loss')\n",
    "plt.legend()\n",
    "plt.title(\"Comparision between validation loss and training loss for 3x3 and 5x5 kernel\")\n",
    "plt.show()\n"
   ]
  },
  {
   "cell_type": "code",
   "execution_count": 50,
   "id": "13440b46",
   "metadata": {},
   "outputs": [
    {
     "data": {
      "text/plain": [
       "Text(0.5, 1.0, 'Label: airplane, Prediction: 0.96')"
      ]
     },
     "execution_count": 50,
     "metadata": {},
     "output_type": "execute_result"
    },
    {
     "data": {
      "image/png": "[encoded data removed]",
      "text/plain": [
       "<Figure size 640x480 with 1 Axes>"
      ]
     },
     "metadata": {},
     "output_type": "display_data"
    }
   ],
   "source": [
    "import numpy as np\n",
    "from PIL import Image\n",
    "import torch\n",
    "\n",
    "image = Image.open('Fliege.jpg')\n",
    "res_image = image.resize((32, 32))\n",
    "image_res = np.array(res_image)\n",
    "tensor = torch.from_numpy(image_res)\n",
    "tensor = tensor.view(3,32,32).float()\n",
    "out = model5(tensor)\n",
    "out = F.softmax(out,dim=1)\n",
    "confi, predicted = torch.max(out, dim=1) \n",
    "label_img = class_names[predicted.item()]\n",
    "confi_img = confi.item()\n",
    "\n",
    "\n",
    "plt.imshow(image_res)\n",
    "plt.title(f\"Label: {label_img}, Prediction: {confi_img:.2f}\")\n"
   ]
  },
  {
   "cell_type": "markdown",
   "id": "5a52e918",
   "metadata": {},
   "source": [
    "Modifizieren Sie das Modell so, dass es einen 5x5 Kernel verwendet.\n",
    "\n",
    "Wie verändert sich dann die Anzahl der freien Parameter im Modell?\n",
    "Bei dem Netz mit dem 3x3-Kernel gibt es 18090 Parameter und bei dem Netz mit dem 5x5-Kernel gibt es 20906 Parameter. Somit hat das Netz mit dem größeren Kernel mehr freie Parameter.\n",
    "\n",
    "Verbessert oder verschlechtert sich Overfitting?\n",
    "Das Overfiitting verschlechtert sich bei dem Netz mit dem 5x5-Kernel im Vergleich zu dem Netz mit dem 3x3-Kernel. Das liegt daran, da das Netz mit dem 5x5-Kernel komplexer ist und sich somit besser an den Datensatz anpassen kann."
   ]
  },
  {
   "cell_type": "code",
   "execution_count": null,
   "id": "f4b6ac06",
   "metadata": {},
   "outputs": [],
   "source": []
  }
 ],
 "metadata": {
  "kernelspec": {
   "display_name": "Python 3 (ipykernel)",
   "language": "python",
   "name": "python3"
  },
  "language_info": {
   "codemirror_mode": {
    "name": "ipython",
    "version": 3
   },
   "file_extension": ".py",
   "mimetype": "text/x-python",
   "name": "python",
   "nbconvert_exporter": "python",
   "pygments_lexer": "ipython3",
   "version": "3.10.9"
  }
 },
 "nbformat": 4,
 "nbformat_minor": 5
}
