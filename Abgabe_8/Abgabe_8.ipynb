{
 "cells": [
  {
   "cell_type": "markdown",
   "metadata": {
    "id": "t8RhKKVXTtSb"
   },
   "source": [
    "#  Abgabe 8"
   ]
  },
  {
   "cell_type": "code",
   "execution_count": 1,
   "metadata": {
    "colab": {
     "base_uri": "https://localhost:8080/"
    },
    "id": "_Ygf_DBqFe6M",
    "outputId": "e6b98f28-60af-489c-ee4f-4eb760e0ebd1"
   },
   "outputs": [
    {
     "name": "stdout",
     "output_type": "stream",
     "text": [
      "Downloading https://www.cs.toronto.edu/~kriz/cifar-10-python.tar.gz to ../data-unversioned/p1ch6/cifar-10-python.tar.gz\n"
     ]
    },
    {
     "name": "stderr",
     "output_type": "stream",
     "text": [
      "100%|██████████| 170498071/170498071 [00:03<00:00, 45691623.47it/s]\n"
     ]
    },
    {
     "name": "stdout",
     "output_type": "stream",
     "text": [
      "Extracting ../data-unversioned/p1ch6/cifar-10-python.tar.gz to ../data-unversioned/p1ch6/\n",
      "Files already downloaded and verified\n",
      "Training on device cuda.\n",
      "Epoch 1, Training loss 0.4625, Validation loss 0.4107\n",
      "Epoch 10, Training loss 0.1883, Validation loss 0.2937\n",
      "Epoch 20, Training loss 0.0210, Validation loss 0.4505\n",
      "Epoch 30, Training loss 0.0307, Validation loss 0.8201\n",
      "Epoch 40, Training loss 0.0035, Validation loss 0.5628\n",
      "Epoch 50, Training loss 0.0043, Validation loss 0.5841\n",
      "Epoch 60, Training loss 0.0007, Validation loss 0.5930\n",
      "Epoch 70, Training loss 0.0080, Validation loss 0.5649\n",
      "Epoch 80, Training loss 0.0009, Validation loss 1.0504\n",
      "Epoch 90, Training loss 0.0001, Validation loss 0.6544\n",
      "Epoch 100, Training loss 0.0122, Validation loss 0.4003\n"
     ]
    }
   ],
   "source": [
    "%matplotlib inline\n",
    "from matplotlib import pyplot as plt\n",
    "import numpy as np\n",
    "import collections\n",
    "\n",
    "import torch\n",
    "import torch.nn as nn\n",
    "import torch.nn.functional as F\n",
    "import torch.optim as optim\n",
    "\n",
    "torch.set_printoptions(edgeitems=2)\n",
    "torch.manual_seed(123)\n",
    "\n",
    "# Klassennamen:\n",
    "class_names = ['airplane','automobile','bird','cat','deer',\n",
    "               'dog','frog','horse','ship','truck']\n",
    "\n",
    "\n",
    "from torchvision import datasets, transforms\n",
    "data_path = '../data-unversioned/p1ch6/'\n",
    "\n",
    "# Datensatz Training\n",
    "# Augmenatation\n",
    "cifar10 = datasets.CIFAR10(\n",
    "    data_path, train=True, download=True,\n",
    "    transform=transforms.Compose([\n",
    "        transforms.ToTensor(),\n",
    "        transforms.RandomHorizontalFlip(),\n",
    "        transforms.RandomCrop(32),\n",
    "        transforms.Normalize((0.4915, 0.4823, 0.4468),\n",
    "                             (0.2470, 0.2435, 0.2616))\n",
    "    ]))\n",
    "\n",
    "# Datensatz Validierung\n",
    "cifar10_val = datasets.CIFAR10(\n",
    "    data_path, train=False, download=True,\n",
    "    transform=transforms.Compose([\n",
    "        transforms.ToTensor(),\n",
    "        transforms.Normalize((0.4915, 0.4823, 0.4468),\n",
    "                             (0.2470, 0.2435, 0.2616))\n",
    "    ]))\n",
    "\n",
    "# Daten für 2 'airplane' und 'bird'\n",
    "import itertools\n",
    "\n",
    "label_map = {0: 0, 2: 1}\n",
    "class_names = ['airplane', 'bird']\n",
    "cifar2 = [(img, label_map[label])\n",
    "          for img, label in cifar10\n",
    "          if label in [0, 2]]\n",
    "cifar2_val = [(img, label_map[label])\n",
    "              for img, label in cifar10_val\n",
    "              if label in [0, 2]]\n",
    "\n",
    "device = (torch.device('cuda') if torch.cuda.is_available()\n",
    "else torch.device('cpu'))\n",
    "print(f\"Training on device {device}.\")\n",
    "\n",
    "\n",
    "import datetime\n",
    "\n",
    "# Trainingsloop\n",
    "def training_loop(n_epochs, optimizer, model, loss_fn, train_loader, val_loader):\n",
    "    loss_Nvall = np.zeros(n_epochs)\n",
    "    loss_Ntrain = np.zeros(n_epochs)\n",
    "    for epoch in range(1, n_epochs + 1):\n",
    "        loss_train = 0.0\n",
    "        for imgs, labels in train_loader:\n",
    "            imgs = imgs.to(device=device)\n",
    "            labels = labels.to(device=device)\n",
    "            outputs = model(imgs)\n",
    "            losses_train = loss_fn(outputs, labels)\n",
    "            optimizer.zero_grad()\n",
    "            losses_train.backward()\n",
    "            optimizer.step()\n",
    "            loss_train += losses_train.item()\n",
    "\n",
    "        loss_val = 0.0\n",
    "        for imgs, labels in val_loader:\n",
    "            imgs = imgs.to(device=device)\n",
    "            labels = labels.to(device=device)\n",
    "            outputs = model(imgs)\n",
    "            losses_val = loss_fn(outputs, labels)\n",
    "            optimizer.zero_grad()\n",
    "            optimizer.step()\n",
    "            loss_val += losses_val.item()\n",
    "\n",
    "        if epoch == 1 or epoch % 10 == 0:\n",
    "            print(f\"Epoch {epoch}, Training loss {loss_train / len(train_loader):.4f},\"\n",
    "                  f\" Validation loss {loss_val / len(val_loader):.4f}\")\n",
    "\n",
    "        loss_Nvall[epoch-1] = loss_val / len(val_loader)\n",
    "        loss_Ntrain [epoch-1] = loss_train / len(train_loader)\n",
    "\n",
    "    return loss_Ntrain, loss_Nvall\n",
    "\n",
    "\n",
    "\n",
    "# Model Paper:  Wide Residual Networks\n",
    "class BasicBlock(nn.Module):\n",
    "    def __init__(self, in_channels, out_channels, stride):\n",
    "        super(BasicBlock, self).__init__()\n",
    "\n",
    "        self.bn1 = nn.BatchNorm2d(in_channels)\n",
    "        self.relu1 = nn.ReLU(inplace=True)\n",
    "        self.conv1 = nn.Conv2d(in_channels, out_channels, kernel_size=3, stride=stride, padding=1, bias=False)\n",
    "\n",
    "        self.bn2 = nn.BatchNorm2d(out_channels)\n",
    "        self.relu2 = nn.ReLU(inplace=True)\n",
    "        self.conv2 = nn.Conv2d(out_channels, out_channels, kernel_size=3, stride=1, padding=1, bias=False)\n",
    "\n",
    "        self.shortcut = nn.Sequential()\n",
    "        if stride != 1 or in_channels != out_channels:\n",
    "            self.shortcut = nn.Sequential(\n",
    "                nn.Conv2d(in_channels, out_channels, kernel_size=1, stride=stride, bias=False),\n",
    "                nn.BatchNorm2d(out_channels)\n",
    "            )\n",
    "\n",
    "    def forward(self, x):\n",
    "        residual = x\n",
    "        out = self.bn1(x)\n",
    "        out = self.relu1(out)\n",
    "        out = self.conv1(out)\n",
    "\n",
    "        out = self.bn2(out)\n",
    "        out = self.relu2(out)\n",
    "        out = self.conv2(out)\n",
    "        out += self.shortcut(residual)\n",
    "        return out\n",
    "\n",
    "\n",
    "class WRN(nn.Module):\n",
    "    def __init__(self, depth, widening_factor, num_classes):\n",
    "        super(WRN, self).__init__()\n",
    "        assert (depth - 4) % 6 == 0\n",
    "        self.n = (depth - 4) // 6\n",
    "        self.widening_factor = widening_factor\n",
    "        self.in_channels = 16\n",
    "        self.conv1 = nn.Conv2d(3, self.in_channels, kernel_size=3, stride=1, padding=1, bias=False)\n",
    "        self.bn1 = nn.BatchNorm2d(self.in_channels)\n",
    "        self.relu = nn.ReLU(inplace=True)\n",
    "        self.layer1 = self._make_layer(16 * self.widening_factor, stride=1)\n",
    "        self.layer2 = self._make_layer(32 * self.widening_factor, stride=2)\n",
    "        self.layer3 = self._make_layer(64 * self.widening_factor, stride=2)\n",
    "        self.avg_pool = nn.AvgPool2d(8)\n",
    "        self.fc = nn.Linear(64 * self.widening_factor, num_classes)\n",
    "\n",
    "    def _make_layer(self, out_channels, stride):\n",
    "        layers = []\n",
    "        layers.append(BasicBlock(self.in_channels, out_channels, stride))\n",
    "        self.in_channels = out_channels\n",
    "        for _ in range(self.n - 1):\n",
    "            layers.append(BasicBlock(out_channels, out_channels, stride=1))\n",
    "        return nn.Sequential(*layers)\n",
    "\n",
    "    def forward(self, x):\n",
    "        out = self.conv1(x)\n",
    "        out = self.bn1(out)\n",
    "        out = self.relu(out)\n",
    "        out = self.layer1(out)\n",
    "        out = self.layer2(out)\n",
    "        out = self.layer3(out)\n",
    "        out = self.avg_pool(out)\n",
    "        out = out.view(out.size(0), -1)\n",
    "        out = self.fc(out)\n",
    "        return out\n",
    "\n",
    "\n",
    "train_loader = torch.utils.data.DataLoader(cifar2, batch_size=64,\n",
    "                                           shuffle=True)\n",
    "val_loader = torch.utils.data.DataLoader(cifar2_val, batch_size=64,\n",
    "                                           shuffle=False)\n",
    "\n",
    "depth = 28\n",
    "widening_factor = 2\n",
    "num_classes = 2\n",
    "model = WRN(depth, widening_factor, num_classes).to(device=device)\n",
    "optimizer = optim.SGD(model.parameters(), lr=1e-2)\n",
    "loss_fn = nn.CrossEntropyLoss()\n",
    "\n",
    "loss_t, loss_v = training_loop(\n",
    "    n_epochs = 100,\n",
    "    optimizer = optimizer,\n",
    "    model = model,\n",
    "    loss_fn = loss_fn,\n",
    "    train_loader = train_loader,\n",
    "    val_loader = val_loader\n",
    ")\n",
    "\n"
   ]
  },
  {
   "cell_type": "code",
   "execution_count": 2,
   "metadata": {
    "colab": {
     "base_uri": "https://localhost:8080/"
    },
    "id": "B-sL6TmtKmmW",
    "outputId": "a2cc157d-a794-4e8d-e483-6cf1e322f1aa"
   },
   "outputs": [
    {
     "name": "stdout",
     "output_type": "stream",
     "text": [
      "Accuracy train: 1.00\n",
      "Accuracy val: 0.90\n",
      "{'train': 0.9999, 'val': 0.902}\n"
     ]
    }
   ],
   "source": [
    "# Validierung Paper\n",
    "all_acc_dict = collections.OrderedDict()\n",
    "\n",
    "def validate(model, train_loader, val_loader):\n",
    "    accdict = {}\n",
    "    for name, loader in [(\"train\", train_loader), (\"val\", val_loader)]:\n",
    "        correct = 0\n",
    "        total = 0\n",
    "\n",
    "        with torch.no_grad():\n",
    "            for imgs, labels in loader:\n",
    "                imgs = imgs.to(device=device)\n",
    "                labels = labels.to(device=device)\n",
    "                outputs = model(imgs)\n",
    "                _, predicted = torch.max(outputs, dim=1) # <1>\n",
    "                total += labels.shape[0]\n",
    "                correct += int((predicted == labels).sum())\n",
    "\n",
    "        print(\"Accuracy {}: {:.2f}\".format(name , correct / total))\n",
    "        accdict[name] = correct / total\n",
    "    return accdict\n",
    "\n",
    "print(validate(model, train_loader, val_loader))"
   ]
  },
  {
   "cell_type": "code",
   "execution_count": 3,
   "metadata": {
    "colab": {
     "base_uri": "https://localhost:8080/"
    },
    "id": "rXRLuLpWRBAn",
    "outputId": "70029ca3-9c2f-457b-d389-f4842872e953"
   },
   "outputs": [
    {
     "name": "stdout",
     "output_type": "stream",
     "text": [
      "Files already downloaded and verified\n",
      "Epoch 1, Training loss 0.6842, Validation loss 0.6659\n",
      "Epoch 10, Training loss 0.4320, Validation loss 0.4134\n",
      "Epoch 20, Training loss 0.3494, Validation loss 0.3439\n",
      "Epoch 30, Training loss 0.3192, Validation loss 0.3239\n",
      "Epoch 40, Training loss 0.3004, Validation loss 0.3296\n",
      "Epoch 50, Training loss 0.2811, Validation loss 0.2970\n",
      "Epoch 60, Training loss 0.2676, Validation loss 0.3181\n",
      "Epoch 70, Training loss 0.2580, Validation loss 0.2735\n",
      "Epoch 80, Training loss 0.2437, Validation loss 0.2673\n",
      "Epoch 90, Training loss 0.2337, Validation loss 0.2751\n",
      "Epoch 100, Training loss 0.2252, Validation loss 0.2610\n"
     ]
    }
   ],
   "source": [
    "# Model Buch\n",
    "class NetRes(nn.Module):\n",
    "    def __init__(self, n_chans1=32):\n",
    "        super().__init__()\n",
    "        self.n_chans1 = n_chans1\n",
    "        self.conv1 = nn.Conv2d(3, n_chans1, kernel_size=3, padding=1)\n",
    "        self.conv2 = nn.Conv2d(n_chans1, n_chans1 // 2, kernel_size=3,\n",
    "        padding=1)\n",
    "        self.conv3 = nn.Conv2d(n_chans1 // 2, n_chans1 // 2,\n",
    "        kernel_size=3, padding=1)\n",
    "        self.fc1 = nn.Linear(4 * 4 * n_chans1 // 2, 32)\n",
    "        self.fc2 = nn.Linear(32, 2)\n",
    "    def forward(self, x):\n",
    "        out = F.max_pool2d(torch.relu(self.conv1(x)), 2)\n",
    "        out = F.max_pool2d(torch.relu(self.conv2(out)), 2)\n",
    "        out1 = out\n",
    "        out = F.max_pool2d(torch.relu(self.conv3(out)) + out1, 2)\n",
    "        out = out.view(-1, 4 * 4 * self.n_chans1 // 2)\n",
    "        out = torch.relu(self.fc1(out))\n",
    "        out = self.fc2(out)\n",
    "        return out\n",
    "\n",
    "# Model Buch Training\n",
    "# Trainingsdatensatz: ohne Augmentation\n",
    "\n",
    "cifar10 = datasets.CIFAR10(\n",
    "    data_path, train=True, download=True,\n",
    "    transform=transforms.Compose([\n",
    "        transforms.ToTensor(),\n",
    "        transforms.Normalize((0.4915, 0.4823, 0.4468),\n",
    "                             (0.2470, 0.2435, 0.2616)),\n",
    "    ]))\n",
    "label_map = {0: 0, 2: 1}\n",
    "class_names = ['airplane', 'bird']\n",
    "cifar2 = [(img, label_map[label])\n",
    "          for img, label in cifar10\n",
    "          if label in [0, 2]]\n",
    "\n",
    "\n",
    "model_book = NetRes(n_chans1=32).to(device=device)\n",
    "\n",
    "optimizer = optim.SGD(model_book.parameters(), lr=3e-3)\n",
    "loss_fn = nn.CrossEntropyLoss()\n",
    "\n",
    "\n",
    "train_loader = torch.utils.data.DataLoader(cifar2, batch_size=64,\n",
    "                                           shuffle=True)\n",
    "\n",
    "val_loader = torch.utils.data.DataLoader(cifar2_val, batch_size=64,\n",
    "                                         shuffle=False)\n",
    "\n",
    "\n",
    "loss_t_book, loss_v_book = training_loop(\n",
    "    n_epochs = 100,\n",
    "    optimizer = optimizer,\n",
    "    model = model_book,\n",
    "    loss_fn = loss_fn,\n",
    "    train_loader = train_loader,\n",
    "    val_loader = val_loader,)\n"
   ]
  },
  {
   "cell_type": "code",
   "execution_count": 4,
   "metadata": {
    "colab": {
     "base_uri": "https://localhost:8080/"
    },
    "id": "64dfnJYnRLnF",
    "outputId": "9b6bc32e-5681-44f1-9ded-42768574dd25"
   },
   "outputs": [
    {
     "name": "stdout",
     "output_type": "stream",
     "text": [
      "Accuracy train: 0.91\n",
      "Accuracy val: 0.89\n",
      "{'train': 0.9123, 'val': 0.8905}\n"
     ]
    }
   ],
   "source": [
    "# Validierung Buch\n",
    "\n",
    "all_acc_dict = collections.OrderedDict()\n",
    "\n",
    "def validate_book(model, train_loader, val_loader):\n",
    "    accdict = {}\n",
    "    for name, loader in [(\"train\", train_loader), (\"val\", val_loader)]:\n",
    "        correct = 0\n",
    "        total = 0\n",
    "\n",
    "        with torch.no_grad():\n",
    "            for imgs, labels in loader:\n",
    "                imgs = imgs.to(device=device)\n",
    "                labels = labels.to(device=device)\n",
    "                outputs = model_book(imgs)\n",
    "                _, predicted = torch.max(outputs, dim=1) # <1>\n",
    "                total += labels.shape[0]\n",
    "                correct += int((predicted == labels).sum())\n",
    "\n",
    "        print(\"Accuracy {}: {:.2f}\".format(name , correct / total))\n",
    "        accdict[name] = correct / total\n",
    "    return accdict\n",
    "\n",
    "print(validate_book(model_book, train_loader, val_loader))\n"
   ]
  },
  {
   "cell_type": "code",
   "execution_count": 5,
   "metadata": {
    "colab": {
     "base_uri": "https://localhost:8080/",
     "height": 472
    },
    "id": "_bFM5QIRRPi_",
    "outputId": "7247d3d1-ceeb-41bd-d494-76e1e3e2cb25",
    "scrolled": true
   },
   "outputs": [
    {
     "data": {
      "image/png": "[encoded data removed]",
      "text/plain": [
       "<Figure size 640x480 with 1 Axes>"
      ]
     },
     "metadata": {},
     "output_type": "display_data"
    }
   ],
   "source": [
    "# Plot Loss/Epochen\n",
    "epochs = np.arange(1, 101, 1)\n",
    "\n",
    "plt.plot(epochs,loss_v, label='validation loss paper')\n",
    "plt.plot(epochs,loss_t, label='training loss paper')\n",
    "plt.plot(epochs,loss_v_book, label='validation loss book')\n",
    "plt.plot(epochs,loss_t_book, label='training loss book')\n",
    "plt.xlabel('Epochs')\n",
    "plt.ylabel('Loss')\n",
    "plt.legend()\n",
    "plt.title(\"Comparision between validation loss and training loss\")\n",
    "plt.show()"
   ]
  },
  {
   "cell_type": "markdown",
   "metadata": {
    "id": "GWPAzz0bTtSo"
   },
   "source": [
    "Die Accuracy bei dem Model aus dem Paper (Wide Residual Networks) beträgt für die Trainingsdaten 1.0 und für die Validierungsdaten 0.9. Die Accuracy mit dem Model aus dem Buch (ResNet) beträgt für die Trainingsdaten 0.91 und für die Validierungsdaten 0.89. Anhand der Accuracy der Validierungsdaten könnte man darauf schließen, dass beide Modelle fast gleich gut sind. Aber bei der Betrachtung der Accuracy der Trainingsdaten und des steigenden Validierungslosses kann man darauf schließen, dass bei dem Modell aus dem Paper ein Übertraining erfolgt ist."
   ]
  },
  {
   "cell_type": "code",
   "execution_count": null,
   "metadata": {
    "id": "WqIyOjiiTtSo"
   },
   "outputs": [],
   "source": []
  }
 ],
 "metadata": {
  "accelerator": "GPU",
  "colab": {
   "gpuType": "T4",
   "provenance": [],
   "toc_visible": true
  },
  "kernelspec": {
   "display_name": "Python 3 (ipykernel)",
   "language": "python",
   "name": "python3"
  },
  "language_info": {
   "codemirror_mode": {
    "name": "ipython",
    "version": 3
   },
   "file_extension": ".py",
   "mimetype": "text/x-python",
   "name": "python",
   "nbconvert_exporter": "python",
   "pygments_lexer": "ipython3",
   "version": "3.10.9"
  }
 },
 "nbformat": 4,
 "nbformat_minor": 1
}
